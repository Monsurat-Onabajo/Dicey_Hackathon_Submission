{
 "cells": [
  {
   "cell_type": "markdown",
   "id": "c30e1605",
   "metadata": {},
   "source": [
    "# Developing a Predictive Model for Stanbic IBTC's Engagement Rate"
   ]
  },
  {
   "cell_type": "markdown",
   "id": "d501b497",
   "metadata": {},
   "source": [
    "### TABLE OF CONTENTS\n",
    "---\n",
    "### [GENERAL OVERVIEW](#GENERAL-OVERVIEW)\n",
    "* [Objective](#Objective)\n",
    "* [Data Dictionary](#Data-Dictionary)\n",
    "* [Import Libraries](#Import-Libraries)\n",
    "\n",
    "### [MACHINE LEARNING](#Machine-Learning)\n",
    " * [Data Preprocessing](#Data-Preprocessing)\n",
    " * [Creating a Baseline Model](#Create-a-baseline-model)\n",
    " * [Splitting Data](#Splitting-Data)\n",
    " * [Training and Fitting of Models](#Training-and-Fitting-of-Models)\n",
    " * [Tuning Model](#Tuning-Model)\n",
    " * [Predicting Target Vector Using Feature Variables](#Predicting-Target-Vector-Using-Feature-Variables)\n",
    "\n",
    "### COMMUNICATING TO EXTERNAL STAKEHOLDERS\n",
    " * The presentation slides can be found here:\n",
    " \n",
    "## [GENERAL OVERVIEW](#TABLE-OF-CONTENTS)\n",
    "---\n",
    "### Objective\n",
    "The objective is to craft a machine learning model tailored to predict the engagement rate for Stanbic IBTC's social media posts based on selected features below. By accurately using patterns to predict engagement rate, I aim to develop a model that will help optimize social media interactions across various platforms.\n",
    "\n",
    "\n",
    "### Data Dictionary\n",
    "\n",
    "1. **Sent by**: \n",
    "   - **Description**: Identifier for the individual or entity that sent or posted the content. \n",
    "   - **Type**: Categorical (e.g., \"Anonymous\").\n",
    "\n",
    "2. **day_of_week**: \n",
    "   - **Description**: The day of the week the content was posted.\n",
    "   - **Type**: Categorical (e.g., \"Monday\", \"Tuesday\").\n",
    "\n",
    "3. **Month**: \n",
    "   - **Description**: The month the content was posted.\n",
    "   - **Type**: Categorical (e.g., \"Jul\").\n",
    "\n",
    "4. **is_weekend**: \n",
    "   - **Description**: Indicator if the day is a weekend.\n",
    "   - **Type**: Binary (0 for weekdays, 1 for weekends).\n",
    "\n",
    "5. **contains_question**: \n",
    "   - **Description**: Indicates if the content contains a question.\n",
    "   - **Type**: Binary (0 for no question, 1 for contains a question).\n",
    "\n",
    "6. **Content Type**: \n",
    "   - **Description**: The type of content posted.\n",
    "   - **Type**: Categorical (e.g., \"Photo\").\n",
    "\n",
    "7. **part_of_day_posted**: \n",
    "   - **Description**: The part of the day when the content was posted.\n",
    "   - **Type**: Categorical (e.g., \"morning\", \"afternoon\").\n",
    "\n",
    "8. **num_hashtags**: \n",
    "   - **Description**: The number of hashtags included in the content.\n",
    "   - **Type**: Numerical.\n",
    "\n",
    "9. **Network**: \n",
    "   - **Description**: The social media platform where the content was posted.\n",
    "   - **Type**: Categorical (e.g., \"Facebook\").\n",
    "\n",
    "10. **Engagements**: \n",
    "   - **Description**: The number of engagements (likes, comments, shares, etc.) the content received.\n",
    "   - **Type**: Numerical.\n",
    "\n",
    "11. **Year**: \n",
    "   - **Description**: The year the content was posted.\n",
    "   - **Type**: Numerical.\n",
    "\n",
    "12. **no of tags**: \n",
    "   - **Description**: The number of tags included in the content.\n",
    "   - **Type**: Numerical.\n"
   ]
  },
  {
   "cell_type": "markdown",
   "id": "5ae1356c",
   "metadata": {},
   "source": [
    "### [Import Libraries](#TABLE-OF-CONTENTS)"
   ]
  },
  {
   "cell_type": "code",
   "execution_count": 1,
   "id": "91ae136d",
   "metadata": {},
   "outputs": [],
   "source": [
    "import pandas as pd  # used for data manipulation and analysis\n",
    "from sklearn.model_selection import train_test_split # used to split datasets into training and testing subsets\n",
    "import numpy as np  # used for numerical computing in Python\n",
    "from sklearn.metrics import mean_absolute_error, r2_score # Metrics to evaluate regression model performance\n",
    "from sklearn.linear_model import Ridge             # Ridge regression model\n",
    "from sklearn.ensemble import RandomForestRegressor # Random forest regression model\n",
    "from sklearn.pipeline import make_pipeline         # used for creating data processing and modeling pipeline"
   ]
  },
  {
   "cell_type": "markdown",
   "id": "bdcd9035",
   "metadata": {},
   "source": [
    "### [Import datasets](#TABLE-OF-CONTENTS)"
   ]
  },
  {
   "cell_type": "code",
   "execution_count": 2,
   "id": "37c9b52d",
   "metadata": {},
   "outputs": [],
   "source": [
    "fb_df= pd.read_csv('Cleaned_fb_data.csv')\n",
    "li_df= pd.read_csv('Cleaned linkedin data.csv')\n",
    "tw_df= pd.read_csv('cleaned_tw_data.csv')\n",
    "in_df=pd.read_csv('cleaned_in_data.csv')"
   ]
  },
  {
   "cell_type": "markdown",
   "id": "c36536c5",
   "metadata": {},
   "source": [
    "### [Assessing Datasets](#TABLE-OF-CONTENTS)"
   ]
  },
  {
   "cell_type": "code",
   "execution_count": 3,
   "id": "59dcf01c",
   "metadata": {},
   "outputs": [
    {
     "name": "stdout",
     "output_type": "stream",
     "text": [
      "<class 'pandas.core.frame.DataFrame'>\n",
      "RangeIndex: 6296 entries, 0 to 6295\n",
      "Data columns (total 56 columns):\n",
      " #   Column                            Non-Null Count  Dtype  \n",
      "---  ------                            --------------  -----  \n",
      " 0   Date                              6296 non-null   object \n",
      " 1   Post ID                           6296 non-null   object \n",
      " 2   Network                           6296 non-null   object \n",
      " 3   Content Type                      6296 non-null   object \n",
      " 4   Sent by                           6296 non-null   object \n",
      " 5   Link                              6296 non-null   object \n",
      " 6   Post                              6296 non-null   object \n",
      " 7   Impressions                       6296 non-null   int64  \n",
      " 8   Organic Impressions               6296 non-null   int64  \n",
      " 9   Viral Impressions                 6296 non-null   int64  \n",
      " 10  Non-viral Impressions             6296 non-null   int64  \n",
      " 11  Fan Impressions                   6296 non-null   int64  \n",
      " 12  Fan Organic Impressions           6296 non-null   int64  \n",
      " 13  Non-fan Impressions               6296 non-null   int64  \n",
      " 14  Non-fan Organic Impressions       6296 non-null   int64  \n",
      " 15  Reach                             6296 non-null   int64  \n",
      " 16  Organic Reach                     6296 non-null   int64  \n",
      " 17  Viral Reach                       6296 non-null   int64  \n",
      " 18  Non-viral Reach                   6296 non-null   int64  \n",
      " 19  Fan Reach                         6296 non-null   int64  \n",
      " 20  Engagement Rate (per Impression)  6296 non-null   float64\n",
      " 21  Engagement Rate (per Reach)       6296 non-null   float64\n",
      " 22  Engagements                       6296 non-null   int64  \n",
      " 23  Reactions                         6296 non-null   int64  \n",
      " 24  Likes                             6296 non-null   int64  \n",
      " 25  Comments                          6296 non-null   int64  \n",
      " 26  Shares                            6296 non-null   int64  \n",
      " 27  Click-Through Rate                6296 non-null   float64\n",
      " 28  Other Post Clicks                 6296 non-null   int64  \n",
      " 29  Post Clicks (All)                 6296 non-null   int64  \n",
      " 30  Post Photo View Clicks            6296 non-null   int64  \n",
      " 31  Answers                           6296 non-null   int64  \n",
      " 32  Negative Feedback                 6296 non-null   int64  \n",
      " 33  Engaged Users                     6296 non-null   int64  \n",
      " 34  Engaged Fans                      6296 non-null   int64  \n",
      " 35  Users Talking About This          6296 non-null   int64  \n",
      " 36  Unique Reactions                  6296 non-null   int64  \n",
      " 37  Unique Comments                   6296 non-null   int64  \n",
      " 38  Unique Shares                     6296 non-null   int64  \n",
      " 39  Unique Answers                    6296 non-null   int64  \n",
      " 40  Unique Post Clicks                6296 non-null   int64  \n",
      " 41  Unique Post Photo View Clicks     6296 non-null   int64  \n",
      " 42  Unique Other Post Clicks          6296 non-null   int64  \n",
      " 43  Unique Negative Feedback          6296 non-null   float64\n",
      " 44  Year                              6296 non-null   int64  \n",
      " 45  Positive reaction                 6296 non-null   float64\n",
      " 46  Negative reaction                 6296 non-null   float64\n",
      " 47  day_of_week                       6296 non-null   object \n",
      " 48  is_weekend                        6296 non-null   int64  \n",
      " 49  post_length                       6296 non-null   int64  \n",
      " 50  contains_question                 6296 non-null   int64  \n",
      " 51  num_hashtags                      6296 non-null   int64  \n",
      " 52  part_of_day_posted                6296 non-null   object \n",
      " 53  Month                             6296 non-null   object \n",
      " 54  no of tags                        6296 non-null   int64  \n",
      " 55  Linked Content(?)                 6296 non-null   object \n",
      "dtypes: float64(6), int64(39), object(11)\n",
      "memory usage: 2.7+ MB\n"
     ]
    }
   ],
   "source": [
    "fb_df.info()"
   ]
  },
  {
   "cell_type": "code",
   "execution_count": 4,
   "id": "da2ca213",
   "metadata": {},
   "outputs": [
    {
     "name": "stdout",
     "output_type": "stream",
     "text": [
      "<class 'pandas.core.frame.DataFrame'>\n",
      "RangeIndex: 6292 entries, 0 to 6291\n",
      "Data columns (total 29 columns):\n",
      " #   Column                            Non-Null Count  Dtype  \n",
      "---  ------                            --------------  -----  \n",
      " 0   Date                              6292 non-null   object \n",
      " 1   Post ID                           6292 non-null   int64  \n",
      " 2   Network                           6292 non-null   object \n",
      " 3   Content Type                      6292 non-null   object \n",
      " 4   Profile                           6292 non-null   object \n",
      " 5   Sent by                           6292 non-null   object \n",
      " 6   Link                              6292 non-null   object \n",
      " 7   Post                              6292 non-null   object \n",
      " 8   Impressions                       6292 non-null   int64  \n",
      " 9   Organic Impressions               6292 non-null   int64  \n",
      " 10  Engagement Rate (per Impression)  6292 non-null   float64\n",
      " 11  Engagements                       6292 non-null   int64  \n",
      " 12  Reactions                         6292 non-null   int64  \n",
      " 13  Likes                             6292 non-null   int64  \n",
      " 14  Comments                          6292 non-null   int64  \n",
      " 15  Shares                            6292 non-null   int64  \n",
      " 16  Click-Through Rate                6292 non-null   float64\n",
      " 17  Post Link Clicks                  6292 non-null   int64  \n",
      " 18  Post Clicks (All)                 6292 non-null   int64  \n",
      " 19  Year                              6292 non-null   int64  \n",
      " 20  part_of_day_posted                6292 non-null   object \n",
      " 21  Month                             6292 non-null   object \n",
      " 22  day_of_week                       6292 non-null   object \n",
      " 23  is_weekend                        6292 non-null   int64  \n",
      " 24  post_length                       6292 non-null   int64  \n",
      " 25  contains_question                 6292 non-null   int64  \n",
      " 26  num_hashtags                      6292 non-null   int64  \n",
      " 27  no of tags                        6292 non-null   int64  \n",
      " 28  Linked Content(?)                 6292 non-null   object \n",
      "dtypes: float64(2), int64(16), object(11)\n",
      "memory usage: 1.4+ MB\n"
     ]
    }
   ],
   "source": [
    "li_df.info()"
   ]
  },
  {
   "cell_type": "code",
   "execution_count": 5,
   "id": "e00daede",
   "metadata": {},
   "outputs": [
    {
     "name": "stdout",
     "output_type": "stream",
     "text": [
      "<class 'pandas.core.frame.DataFrame'>\n",
      "RangeIndex: 7244 entries, 0 to 7243\n",
      "Data columns (total 28 columns):\n",
      " #   Column                            Non-Null Count  Dtype  \n",
      "---  ------                            --------------  -----  \n",
      " 0   Date                              7244 non-null   object \n",
      " 1   Post ID                           7244 non-null   int64  \n",
      " 2   Network                           7244 non-null   object \n",
      " 3   Content Type                      7244 non-null   object \n",
      " 4   Profile                           7244 non-null   object \n",
      " 5   Sent by                           7244 non-null   object \n",
      " 6   Link                              7244 non-null   object \n",
      " 7   Post                              7244 non-null   object \n",
      " 8   Impressions                       7244 non-null   int64  \n",
      " 9   Organic Impressions               7244 non-null   int64  \n",
      " 10  Reach                             7244 non-null   int64  \n",
      " 11  Organic Reach                     7244 non-null   int64  \n",
      " 12  Engagement Rate (per Impression)  7244 non-null   float64\n",
      " 13  Engagement Rate (per Reach)       7244 non-null   float64\n",
      " 14  Engagements                       7244 non-null   int64  \n",
      " 15  Reactions                         7244 non-null   int64  \n",
      " 16  Likes                             7244 non-null   int64  \n",
      " 17  Comments                          7244 non-null   int64  \n",
      " 18  Saves                             7244 non-null   int64  \n",
      " 19  Year                              7244 non-null   int64  \n",
      " 20  no of tags                        7244 non-null   int64  \n",
      " 21  part_of_day_posted                7244 non-null   object \n",
      " 22  day_of_week                       7244 non-null   object \n",
      " 23  is_weekend                        7244 non-null   int64  \n",
      " 24  post_length                       7244 non-null   int64  \n",
      " 25  contains_question                 7244 non-null   int64  \n",
      " 26  num_hashtags                      7244 non-null   int64  \n",
      " 27  Month                             7244 non-null   object \n",
      "dtypes: float64(2), int64(16), object(10)\n",
      "memory usage: 1.5+ MB\n"
     ]
    }
   ],
   "source": [
    "in_df.info()"
   ]
  },
  {
   "cell_type": "code",
   "execution_count": 6,
   "id": "1dccdd99",
   "metadata": {},
   "outputs": [
    {
     "data": {
      "text/html": [
       "<div>\n",
       "<style scoped>\n",
       "    .dataframe tbody tr th:only-of-type {\n",
       "        vertical-align: middle;\n",
       "    }\n",
       "\n",
       "    .dataframe tbody tr th {\n",
       "        vertical-align: top;\n",
       "    }\n",
       "\n",
       "    .dataframe thead th {\n",
       "        text-align: right;\n",
       "    }\n",
       "</style>\n",
       "<table border=\"1\" class=\"dataframe\">\n",
       "  <thead>\n",
       "    <tr style=\"text-align: right;\">\n",
       "      <th></th>\n",
       "      <th>Date</th>\n",
       "      <th>Post ID</th>\n",
       "      <th>Network</th>\n",
       "      <th>Content Type</th>\n",
       "      <th>Profile</th>\n",
       "      <th>Sent by</th>\n",
       "      <th>Link</th>\n",
       "      <th>Post</th>\n",
       "      <th>Impressions</th>\n",
       "      <th>Organic Impressions</th>\n",
       "      <th>...</th>\n",
       "      <th>Saves</th>\n",
       "      <th>Year</th>\n",
       "      <th>no of tags</th>\n",
       "      <th>part_of_day_posted</th>\n",
       "      <th>day_of_week</th>\n",
       "      <th>is_weekend</th>\n",
       "      <th>post_length</th>\n",
       "      <th>contains_question</th>\n",
       "      <th>num_hashtags</th>\n",
       "      <th>Month</th>\n",
       "    </tr>\n",
       "  </thead>\n",
       "  <tbody>\n",
       "    <tr>\n",
       "      <th>0</th>\n",
       "      <td>2016-09-09 13:50:00</td>\n",
       "      <td>17862881485009762</td>\n",
       "      <td>Instagram</td>\n",
       "      <td>Photo</td>\n",
       "      <td>stanbicibtc</td>\n",
       "      <td>Anonymous</td>\n",
       "      <td>https://www.instagram.com/p/BKIsRL6hlbY/</td>\n",
       "      <td>Tune in to WE106.3FM Abuja to learn how you ca...</td>\n",
       "      <td>2</td>\n",
       "      <td>2</td>\n",
       "      <td>...</td>\n",
       "      <td>0</td>\n",
       "      <td>2016</td>\n",
       "      <td>0</td>\n",
       "      <td>afternoon</td>\n",
       "      <td>Friday</td>\n",
       "      <td>0</td>\n",
       "      <td>33</td>\n",
       "      <td>0</td>\n",
       "      <td>2</td>\n",
       "      <td>Sep</td>\n",
       "    </tr>\n",
       "    <tr>\n",
       "      <th>1</th>\n",
       "      <td>2016-09-14 17:05:00</td>\n",
       "      <td>17842347463137236</td>\n",
       "      <td>Instagram</td>\n",
       "      <td>Photo</td>\n",
       "      <td>stanbicibtc</td>\n",
       "      <td>Anonymous</td>\n",
       "      <td>https://www.instagram.com/p/BKV6gqSBRai/</td>\n",
       "      <td>Tune in to @Nigeriainfofmabuja to learn how yo...</td>\n",
       "      <td>3</td>\n",
       "      <td>3</td>\n",
       "      <td>...</td>\n",
       "      <td>0</td>\n",
       "      <td>2016</td>\n",
       "      <td>0</td>\n",
       "      <td>evening</td>\n",
       "      <td>Wednesday</td>\n",
       "      <td>0</td>\n",
       "      <td>32</td>\n",
       "      <td>0</td>\n",
       "      <td>2</td>\n",
       "      <td>Sep</td>\n",
       "    </tr>\n",
       "    <tr>\n",
       "      <th>2</th>\n",
       "      <td>2016-09-15 10:00:00</td>\n",
       "      <td>17863458754018743</td>\n",
       "      <td>Instagram</td>\n",
       "      <td>Photo</td>\n",
       "      <td>stanbicibtc</td>\n",
       "      <td>Anonymous</td>\n",
       "      <td>https://www.instagram.com/p/BKXunecBpvO/</td>\n",
       "      <td>If you could choose to stay a certain age fore...</td>\n",
       "      <td>2</td>\n",
       "      <td>2</td>\n",
       "      <td>...</td>\n",
       "      <td>0</td>\n",
       "      <td>2016</td>\n",
       "      <td>0</td>\n",
       "      <td>morning</td>\n",
       "      <td>Thursday</td>\n",
       "      <td>0</td>\n",
       "      <td>17</td>\n",
       "      <td>1</td>\n",
       "      <td>1</td>\n",
       "      <td>Sep</td>\n",
       "    </tr>\n",
       "    <tr>\n",
       "      <th>3</th>\n",
       "      <td>2016-09-19 20:59:00</td>\n",
       "      <td>17842644220131133</td>\n",
       "      <td>Instagram</td>\n",
       "      <td>Photo</td>\n",
       "      <td>stanbicibtc</td>\n",
       "      <td>Anonymous</td>\n",
       "      <td>https://www.instagram.com/p/BKjNN47BLIR/</td>\n",
       "      <td>Want #investments that don’t cost £89m and you...</td>\n",
       "      <td>1</td>\n",
       "      <td>1</td>\n",
       "      <td>...</td>\n",
       "      <td>0</td>\n",
       "      <td>2016</td>\n",
       "      <td>0</td>\n",
       "      <td>evening</td>\n",
       "      <td>Monday</td>\n",
       "      <td>0</td>\n",
       "      <td>18</td>\n",
       "      <td>1</td>\n",
       "      <td>3</td>\n",
       "      <td>Sep</td>\n",
       "    </tr>\n",
       "    <tr>\n",
       "      <th>4</th>\n",
       "      <td>2016-09-20 17:33:00</td>\n",
       "      <td>17852786815111246</td>\n",
       "      <td>Instagram</td>\n",
       "      <td>Photo</td>\n",
       "      <td>stanbicibtc</td>\n",
       "      <td>Anonymous</td>\n",
       "      <td>https://www.instagram.com/p/BKlafM4BG0V/</td>\n",
       "      <td>Tune into @ifm92.3 to learn how you can invest...</td>\n",
       "      <td>1</td>\n",
       "      <td>1</td>\n",
       "      <td>...</td>\n",
       "      <td>0</td>\n",
       "      <td>2016</td>\n",
       "      <td>0</td>\n",
       "      <td>evening</td>\n",
       "      <td>Tuesday</td>\n",
       "      <td>0</td>\n",
       "      <td>28</td>\n",
       "      <td>0</td>\n",
       "      <td>1</td>\n",
       "      <td>Sep</td>\n",
       "    </tr>\n",
       "  </tbody>\n",
       "</table>\n",
       "<p>5 rows × 28 columns</p>\n",
       "</div>"
      ],
      "text/plain": [
       "                  Date            Post ID    Network Content Type  \\\n",
       "0  2016-09-09 13:50:00  17862881485009762  Instagram        Photo   \n",
       "1  2016-09-14 17:05:00  17842347463137236  Instagram        Photo   \n",
       "2  2016-09-15 10:00:00  17863458754018743  Instagram        Photo   \n",
       "3  2016-09-19 20:59:00  17842644220131133  Instagram        Photo   \n",
       "4  2016-09-20 17:33:00  17852786815111246  Instagram        Photo   \n",
       "\n",
       "       Profile    Sent by                                      Link  \\\n",
       "0  stanbicibtc  Anonymous  https://www.instagram.com/p/BKIsRL6hlbY/   \n",
       "1  stanbicibtc  Anonymous  https://www.instagram.com/p/BKV6gqSBRai/   \n",
       "2  stanbicibtc  Anonymous  https://www.instagram.com/p/BKXunecBpvO/   \n",
       "3  stanbicibtc  Anonymous  https://www.instagram.com/p/BKjNN47BLIR/   \n",
       "4  stanbicibtc  Anonymous  https://www.instagram.com/p/BKlafM4BG0V/   \n",
       "\n",
       "                                                Post  Impressions  \\\n",
       "0  Tune in to WE106.3FM Abuja to learn how you ca...            2   \n",
       "1  Tune in to @Nigeriainfofmabuja to learn how yo...            3   \n",
       "2  If you could choose to stay a certain age fore...            2   \n",
       "3  Want #investments that don’t cost £89m and you...            1   \n",
       "4  Tune into @ifm92.3 to learn how you can invest...            1   \n",
       "\n",
       "   Organic Impressions  ...  Saves  Year  no of tags  part_of_day_posted  \\\n",
       "0                    2  ...      0  2016           0           afternoon   \n",
       "1                    3  ...      0  2016           0             evening   \n",
       "2                    2  ...      0  2016           0             morning   \n",
       "3                    1  ...      0  2016           0             evening   \n",
       "4                    1  ...      0  2016           0             evening   \n",
       "\n",
       "   day_of_week  is_weekend  post_length  contains_question  num_hashtags  \\\n",
       "0       Friday           0           33                  0             2   \n",
       "1    Wednesday           0           32                  0             2   \n",
       "2     Thursday           0           17                  1             1   \n",
       "3       Monday           0           18                  1             3   \n",
       "4      Tuesday           0           28                  0             1   \n",
       "\n",
       "   Month  \n",
       "0    Sep  \n",
       "1    Sep  \n",
       "2    Sep  \n",
       "3    Sep  \n",
       "4    Sep  \n",
       "\n",
       "[5 rows x 28 columns]"
      ]
     },
     "execution_count": 6,
     "metadata": {},
     "output_type": "execute_result"
    }
   ],
   "source": [
    "in_df.head()"
   ]
  },
  {
   "cell_type": "code",
   "execution_count": 7,
   "id": "2a4a40e9",
   "metadata": {},
   "outputs": [
    {
     "name": "stdout",
     "output_type": "stream",
     "text": [
      "<class 'pandas.core.frame.DataFrame'>\n",
      "RangeIndex: 6671 entries, 0 to 6670\n",
      "Data columns (total 37 columns):\n",
      " #   Column                            Non-Null Count  Dtype  \n",
      "---  ------                            --------------  -----  \n",
      " 0   Date                              6671 non-null   object \n",
      " 1   Post ID                           6671 non-null   int64  \n",
      " 2   Network                           6671 non-null   object \n",
      " 3   Content Type                      6671 non-null   object \n",
      " 4   Profile                           6671 non-null   object \n",
      " 5   Sent by                           6671 non-null   object \n",
      " 6   Link                              6671 non-null   object \n",
      " 7   Post                              6671 non-null   object \n",
      " 8   Impressions                       6671 non-null   int64  \n",
      " 9   Organic Impressions               6671 non-null   int64  \n",
      " 10  Potential Reach                   6671 non-null   int64  \n",
      " 11  Engagement Rate (per Impression)  6671 non-null   float64\n",
      " 12  Engagements                       6671 non-null   int64  \n",
      " 13  Reactions                         6671 non-null   int64  \n",
      " 14  Likes                             6671 non-null   int64  \n",
      " 15  Comments                          6671 non-null   int64  \n",
      " 16  Shares                            6671 non-null   int64  \n",
      " 17  Other Post Clicks                 6671 non-null   int64  \n",
      " 18  Post Clicks (All)                 6671 non-null   int64  \n",
      " 19  Post Media Clicks                 6671 non-null   int64  \n",
      " 20  Post Detail Expand Clicks         6671 non-null   int64  \n",
      " 21  Profile Clicks                    6671 non-null   int64  \n",
      " 22  Other Engagements                 6671 non-null   int64  \n",
      " 23  Video Views                       6671 non-null   object \n",
      " 24  Media Views                       6671 non-null   int64  \n",
      " 25  Year                              6671 non-null   int64  \n",
      " 26  Month                             6671 non-null   object \n",
      " 27  no of tags                        6671 non-null   int64  \n",
      " 28  Linked Content(?)                 6671 non-null   object \n",
      " 29  day_of_week                       6671 non-null   object \n",
      " 30  is_weekend                        6671 non-null   int64  \n",
      " 31  post_length                       6671 non-null   int64  \n",
      " 32  contains_question                 6671 non-null   int64  \n",
      " 33  num_hashtags                      6671 non-null   int64  \n",
      " 34  part_of_day_posted                6671 non-null   object \n",
      " 35  Followed from post?               6671 non-null   object \n",
      " 36  Unfollowed from post?             6671 non-null   object \n",
      "dtypes: float64(1), int64(22), object(14)\n",
      "memory usage: 1.9+ MB\n"
     ]
    }
   ],
   "source": [
    "tw_df.info()"
   ]
  },
  {
   "cell_type": "markdown",
   "id": "efcbd491",
   "metadata": {},
   "source": [
    "### [Get all columns that occur in the four datasets](#TABLE-OF-CONTENTS)"
   ]
  },
  {
   "cell_type": "code",
   "execution_count": 8,
   "id": "0d6c0243",
   "metadata": {},
   "outputs": [
    {
     "data": {
      "text/plain": [
       "{'Comments',\n",
       " 'Content Type',\n",
       " 'Date',\n",
       " 'Engagement Rate (per Impression)',\n",
       " 'Engagements',\n",
       " 'Impressions',\n",
       " 'Likes',\n",
       " 'Link',\n",
       " 'Month',\n",
       " 'Network',\n",
       " 'Organic Impressions',\n",
       " 'Post',\n",
       " 'Post ID',\n",
       " 'Reactions',\n",
       " 'Sent by',\n",
       " 'Year',\n",
       " 'contains_question',\n",
       " 'day_of_week',\n",
       " 'is_weekend',\n",
       " 'no of tags',\n",
       " 'num_hashtags',\n",
       " 'part_of_day_posted',\n",
       " 'post_length'}"
      ]
     },
     "execution_count": 8,
     "metadata": {},
     "output_type": "execute_result"
    }
   ],
   "source": [
    "# Lists of column names\n",
    "list_1 = ['Date', 'Post ID', 'Network', 'Content Type', 'Profile', 'Sent by',\n",
    "          'Link', 'Post', 'Impressions', 'Organic Impressions',\n",
    "          'Engagement Rate (per Impression)', 'Engagements', 'Reactions', 'Likes',\n",
    "          'Comments', 'Shares', 'Click-Through Rate', 'Post Link Clicks',\n",
    "          'Post Clicks (All)', 'Year', 'part_of_day_posted', 'Month',\n",
    "          'day_of_week', 'is_weekend', 'post_length', 'contains_question',\n",
    "          'num_hashtags', 'no of tags', 'Linked Content(?)']\n",
    "\n",
    "list_2 = ['Date', 'Post ID', 'Network', 'Content Type', 'Profile', 'Sent by',\n",
    "          'Link', 'Post', 'Impressions', 'Organic Impressions', 'Reach',\n",
    "          'Organic Reach', 'Engagement Rate (per Impression)',\n",
    "          'Engagement Rate (per Reach)', 'Engagements', 'Reactions', 'Likes',\n",
    "          'Comments', 'Saves', 'Year', 'no of tags', 'part_of_day_posted',\n",
    "          'day_of_week', 'is_weekend', 'post_length', 'contains_question',\n",
    "          'num_hashtags', 'Month']\n",
    "\n",
    "list_3 = ['Date', 'Post ID', 'Network', 'Content Type', 'Sent by', 'Link', 'Post',\n",
    "          'Impressions', 'Organic Impressions', 'Viral Impressions',\n",
    "          'Non-viral Impressions', 'Fan Impressions', 'Fan Organic Impressions',\n",
    "          'Non-fan Impressions', 'Non-fan Organic Impressions', 'Reach',\n",
    "          'Organic Reach', 'Viral Reach', 'Non-viral Reach', 'Fan Reach',\n",
    "          'Engagement Rate (per Impression)', 'Engagement Rate (per Reach)',\n",
    "          'Engagements', 'Reactions', 'Likes', 'Comments', 'Shares',\n",
    "          'Click-Through Rate', 'Other Post Clicks', 'Post Clicks (All)',\n",
    "          'Post Photo View Clicks', 'Answers', 'Negative Feedback',\n",
    "          'Engaged Users', 'Engaged Fans', 'Users Talking About This',\n",
    "          'Unique Reactions', 'Unique Comments', 'Unique Shares',\n",
    "          'Unique Answers', 'Unique Post Clicks', 'Unique Post Photo View Clicks',\n",
    "          'Unique Other Post Clicks', 'Unique Negative Feedback', 'Year',\n",
    "          'Positive reaction', 'Negative reaction', 'day_of_week', 'is_weekend',\n",
    "          'post_length', 'contains_question', 'num_hashtags',\n",
    "          'part_of_day_posted', 'Month', 'no of tags', 'Linked Content(?)']\n",
    "\n",
    "list_4 = ['Date', 'Post ID', 'Network', 'Content Type', 'Profile', 'Sent by',\n",
    "          'Link', 'Post', 'Impressions', 'Organic Impressions', 'Potential Reach',\n",
    "          'Engagement Rate (per Impression)', 'Engagements', 'Reactions', 'Likes',\n",
    "          'Comments', 'Shares', 'Other Post Clicks', 'Post Clicks (All)',\n",
    "          'Post Media Clicks', 'Post Detail Expand Clicks', 'Profile Clicks',\n",
    "          'Other Engagements', 'Video Views', 'Media Views', 'Year', 'Month',\n",
    "          'no of tags', 'Linked Content(?)', 'day_of_week', 'is_weekend',\n",
    "          'post_length', 'contains_question', 'num_hashtags',\n",
    "          'part_of_day_posted', 'Followed from post?', 'Unfollowed from post?']\n",
    "\n",
    "# Find the common columns among all lists\n",
    "common_columns = set(list_1) & set(list_2) & set(list_3) & set(list_4)\n",
    "\n",
    "common_columns\n"
   ]
  },
  {
   "cell_type": "markdown",
   "id": "7ec51316",
   "metadata": {},
   "source": [
    "### [Get columns that occur in all datasets and can be used to predict engagement rate across all platforms](#TABLE-OF-CONTENTS)"
   ]
  },
  {
   "cell_type": "code",
   "execution_count": 9,
   "id": "ad16f885",
   "metadata": {},
   "outputs": [],
   "source": [
    "features= ['Sent by', 'day_of_week','Month','is_weekend',\n",
    "           'contains_question','Content Type','part_of_day_posted',\n",
    "           'num_hashtags','Network', 'Engagements', 'Year', 'no of tags']"
   ]
  },
  {
   "cell_type": "markdown",
   "id": "e072bbdd",
   "metadata": {},
   "source": [
    "### [Create a new datasets with the new features and join the four datasets togetherto form one big dataset](#TABLE-OF-CONTENTS)"
   ]
  },
  {
   "cell_type": "code",
   "execution_count": 10,
   "id": "c454e29b",
   "metadata": {},
   "outputs": [],
   "source": [
    "new_fb_df= fb_df[features]\n",
    "new_li_df= li_df[features]\n",
    "new_tw_df= tw_df[features]\n",
    "new_in_df= in_df[features]"
   ]
  },
  {
   "cell_type": "code",
   "execution_count": 11,
   "id": "b507aa4d",
   "metadata": {},
   "outputs": [],
   "source": [
    "# join the datasets together\n",
    "df= pd.concat([new_fb_df, new_in_df, new_li_df, new_tw_df], ignore_index= True)"
   ]
  },
  {
   "cell_type": "code",
   "execution_count": 12,
   "id": "933bb42c",
   "metadata": {},
   "outputs": [],
   "source": [
    "# save the dataset\n",
    "df.to_csv('full_data.csv', index= False)"
   ]
  },
  {
   "cell_type": "code",
   "execution_count": 13,
   "id": "9d6153ae",
   "metadata": {},
   "outputs": [
    {
     "name": "stdout",
     "output_type": "stream",
     "text": [
      "<class 'pandas.core.frame.DataFrame'>\n",
      "RangeIndex: 26503 entries, 0 to 26502\n",
      "Data columns (total 12 columns):\n",
      " #   Column              Non-Null Count  Dtype \n",
      "---  ------              --------------  ----- \n",
      " 0   Sent by             26503 non-null  object\n",
      " 1   day_of_week         26503 non-null  object\n",
      " 2   Month               26503 non-null  object\n",
      " 3   is_weekend          26503 non-null  int64 \n",
      " 4   contains_question   26503 non-null  int64 \n",
      " 5   Content Type        26503 non-null  object\n",
      " 6   part_of_day_posted  26503 non-null  object\n",
      " 7   num_hashtags        26503 non-null  int64 \n",
      " 8   Network             26503 non-null  object\n",
      " 9   Engagements         26503 non-null  int64 \n",
      " 10  Year                26503 non-null  int64 \n",
      " 11  no of tags          26503 non-null  int64 \n",
      "dtypes: int64(6), object(6)\n",
      "memory usage: 2.4+ MB\n"
     ]
    }
   ],
   "source": [
    "df.info()"
   ]
  },
  {
   "cell_type": "code",
   "execution_count": 14,
   "id": "21034f86",
   "metadata": {},
   "outputs": [
    {
     "data": {
      "text/html": [
       "<div>\n",
       "<style scoped>\n",
       "    .dataframe tbody tr th:only-of-type {\n",
       "        vertical-align: middle;\n",
       "    }\n",
       "\n",
       "    .dataframe tbody tr th {\n",
       "        vertical-align: top;\n",
       "    }\n",
       "\n",
       "    .dataframe thead th {\n",
       "        text-align: right;\n",
       "    }\n",
       "</style>\n",
       "<table border=\"1\" class=\"dataframe\">\n",
       "  <thead>\n",
       "    <tr style=\"text-align: right;\">\n",
       "      <th></th>\n",
       "      <th>Sent by</th>\n",
       "      <th>day_of_week</th>\n",
       "      <th>Month</th>\n",
       "      <th>is_weekend</th>\n",
       "      <th>contains_question</th>\n",
       "      <th>Content Type</th>\n",
       "      <th>part_of_day_posted</th>\n",
       "      <th>num_hashtags</th>\n",
       "      <th>Network</th>\n",
       "      <th>Engagements</th>\n",
       "      <th>Year</th>\n",
       "      <th>no of tags</th>\n",
       "    </tr>\n",
       "  </thead>\n",
       "  <tbody>\n",
       "    <tr>\n",
       "      <th>0</th>\n",
       "      <td>Anonymous</td>\n",
       "      <td>Monday</td>\n",
       "      <td>Jul</td>\n",
       "      <td>0</td>\n",
       "      <td>0</td>\n",
       "      <td>Photo</td>\n",
       "      <td>morning</td>\n",
       "      <td>0</td>\n",
       "      <td>Facebook</td>\n",
       "      <td>265</td>\n",
       "      <td>2017</td>\n",
       "      <td>0</td>\n",
       "    </tr>\n",
       "    <tr>\n",
       "      <th>1</th>\n",
       "      <td>Anonymous</td>\n",
       "      <td>Tuesday</td>\n",
       "      <td>Jul</td>\n",
       "      <td>0</td>\n",
       "      <td>0</td>\n",
       "      <td>Photo</td>\n",
       "      <td>morning</td>\n",
       "      <td>0</td>\n",
       "      <td>Facebook</td>\n",
       "      <td>446</td>\n",
       "      <td>2017</td>\n",
       "      <td>0</td>\n",
       "    </tr>\n",
       "    <tr>\n",
       "      <th>2</th>\n",
       "      <td>Anonymous</td>\n",
       "      <td>Thursday</td>\n",
       "      <td>Jul</td>\n",
       "      <td>0</td>\n",
       "      <td>1</td>\n",
       "      <td>Photo</td>\n",
       "      <td>morning</td>\n",
       "      <td>0</td>\n",
       "      <td>Facebook</td>\n",
       "      <td>380</td>\n",
       "      <td>2017</td>\n",
       "      <td>0</td>\n",
       "    </tr>\n",
       "    <tr>\n",
       "      <th>3</th>\n",
       "      <td>Anonymous</td>\n",
       "      <td>Wednesday</td>\n",
       "      <td>Jul</td>\n",
       "      <td>0</td>\n",
       "      <td>0</td>\n",
       "      <td>Photo</td>\n",
       "      <td>afternoon</td>\n",
       "      <td>1</td>\n",
       "      <td>Facebook</td>\n",
       "      <td>45</td>\n",
       "      <td>2017</td>\n",
       "      <td>0</td>\n",
       "    </tr>\n",
       "    <tr>\n",
       "      <th>4</th>\n",
       "      <td>Anonymous</td>\n",
       "      <td>Wednesday</td>\n",
       "      <td>Jul</td>\n",
       "      <td>0</td>\n",
       "      <td>0</td>\n",
       "      <td>Photo</td>\n",
       "      <td>afternoon</td>\n",
       "      <td>2</td>\n",
       "      <td>Facebook</td>\n",
       "      <td>40</td>\n",
       "      <td>2017</td>\n",
       "      <td>0</td>\n",
       "    </tr>\n",
       "  </tbody>\n",
       "</table>\n",
       "</div>"
      ],
      "text/plain": [
       "     Sent by day_of_week Month  is_weekend  contains_question Content Type  \\\n",
       "0  Anonymous      Monday   Jul           0                  0        Photo   \n",
       "1  Anonymous     Tuesday   Jul           0                  0        Photo   \n",
       "2  Anonymous    Thursday   Jul           0                  1        Photo   \n",
       "3  Anonymous   Wednesday   Jul           0                  0        Photo   \n",
       "4  Anonymous   Wednesday   Jul           0                  0        Photo   \n",
       "\n",
       "  part_of_day_posted  num_hashtags   Network  Engagements  Year  no of tags  \n",
       "0            morning             0  Facebook          265  2017           0  \n",
       "1            morning             0  Facebook          446  2017           0  \n",
       "2            morning             0  Facebook          380  2017           0  \n",
       "3          afternoon             1  Facebook           45  2017           0  \n",
       "4          afternoon             2  Facebook           40  2017           0  "
      ]
     },
     "execution_count": 14,
     "metadata": {},
     "output_type": "execute_result"
    }
   ],
   "source": [
    "df.head()"
   ]
  },
  {
   "cell_type": "code",
   "execution_count": 15,
   "id": "9391690a",
   "metadata": {},
   "outputs": [
    {
     "data": {
      "text/plain": [
       "<AxesSubplot:>"
      ]
     },
     "execution_count": 15,
     "metadata": {},
     "output_type": "execute_result"
    },
    {
     "data": {
      "image/png": "[encoded data removed]",
      "text/plain": [
       "<Figure size 432x288 with 1 Axes>"
      ]
     },
     "metadata": {
      "needs_background": "light"
     },
     "output_type": "display_data"
    }
   ],
   "source": [
    "# Check if the datasets have good representation of each platforms\n",
    "df['Network'].value_counts().plot.bar()"
   ]
  },
  {
   "cell_type": "markdown",
   "id": "66312625",
   "metadata": {},
   "source": [
    "## [Data Preprocessing](#TABLE-OF-CONTENTS)"
   ]
  },
  {
   "cell_type": "code",
   "execution_count": 16,
   "id": "5c26ca1b",
   "metadata": {},
   "outputs": [],
   "source": [
    "# Convert all object data to integer for machine learning\n",
    "df= pd.get_dummies(df)"
   ]
  },
  {
   "cell_type": "code",
   "execution_count": 17,
   "id": "89681e4f",
   "metadata": {},
   "outputs": [
    {
     "name": "stdout",
     "output_type": "stream",
     "text": [
      "<class 'pandas.core.frame.DataFrame'>\n",
      "RangeIndex: 26503 entries, 0 to 26502\n",
      "Data columns (total 46 columns):\n",
      " #   Column                        Non-Null Count  Dtype\n",
      "---  ------                        --------------  -----\n",
      " 0   is_weekend                    26503 non-null  int64\n",
      " 1   contains_question             26503 non-null  int64\n",
      " 2   num_hashtags                  26503 non-null  int64\n",
      " 3   Engagements                   26503 non-null  int64\n",
      " 4   Year                          26503 non-null  int64\n",
      " 5   no of tags                    26503 non-null  int64\n",
      " 6   Sent by_Anonymous             26503 non-null  uint8\n",
      " 7   Sent by_Aramide Salami        26503 non-null  uint8\n",
      " 8   Sent by_Blessing Ubah         26503 non-null  uint8\n",
      " 9   Sent by_Damilare Oyekanmi     26503 non-null  uint8\n",
      " 10  Sent by_Dunni Ogunsanya       26503 non-null  uint8\n",
      " 11  Sent by_Kemi Amoo             26503 non-null  uint8\n",
      " 12  Sent by_Sophia Amuka          26503 non-null  uint8\n",
      " 13  day_of_week_Friday            26503 non-null  uint8\n",
      " 14  day_of_week_Monday            26503 non-null  uint8\n",
      " 15  day_of_week_Saturday          26503 non-null  uint8\n",
      " 16  day_of_week_Sunday            26503 non-null  uint8\n",
      " 17  day_of_week_Thursday          26503 non-null  uint8\n",
      " 18  day_of_week_Tuesday           26503 non-null  uint8\n",
      " 19  day_of_week_Wednesday         26503 non-null  uint8\n",
      " 20  Month_Apr                     26503 non-null  uint8\n",
      " 21  Month_Aug                     26503 non-null  uint8\n",
      " 22  Month_Dec                     26503 non-null  uint8\n",
      " 23  Month_Feb                     26503 non-null  uint8\n",
      " 24  Month_Jan                     26503 non-null  uint8\n",
      " 25  Month_Jul                     26503 non-null  uint8\n",
      " 26  Month_Jun                     26503 non-null  uint8\n",
      " 27  Month_Mar                     26503 non-null  uint8\n",
      " 28  Month_May                     26503 non-null  uint8\n",
      " 29  Month_Nov                     26503 non-null  uint8\n",
      " 30  Month_Oct                     26503 non-null  uint8\n",
      " 31  Month_Sep                     26503 non-null  uint8\n",
      " 32  Content Type_Carousel         26503 non-null  uint8\n",
      " 33  Content Type_Document         26503 non-null  uint8\n",
      " 34  Content Type_Link             26503 non-null  uint8\n",
      " 35  Content Type_Photo            26503 non-null  uint8\n",
      " 36  Content Type_Text             26503 non-null  uint8\n",
      " 37  Content Type_Video            26503 non-null  uint8\n",
      " 38  part_of_day_posted_afternoon  26503 non-null  uint8\n",
      " 39  part_of_day_posted_evening    26503 non-null  uint8\n",
      " 40  part_of_day_posted_morning    26503 non-null  uint8\n",
      " 41  part_of_day_posted_night      26503 non-null  uint8\n",
      " 42  Network_Facebook              26503 non-null  uint8\n",
      " 43  Network_Instagram             26503 non-null  uint8\n",
      " 44  Network_LinkedIn              26503 non-null  uint8\n",
      " 45  Network_Twitter               26503 non-null  uint8\n",
      "dtypes: int64(6), uint8(40)\n",
      "memory usage: 2.2 MB\n"
     ]
    }
   ],
   "source": [
    "df.info()"
   ]
  },
  {
   "cell_type": "code",
   "execution_count": 18,
   "id": "e07b9920",
   "metadata": {},
   "outputs": [],
   "source": [
    "# Split the data into Features (X) and Target columns (y)\n",
    "\n",
    "X=  df.drop('Engagements', axis=1)\n",
    "y= df['Engagements']\n",
    "\n",
    "# Split the data into training and test split\n",
    "X_train,X_test, y_train, y_test= train_test_split(X,y,test_size=0.2, shuffle= True, random_state=42)"
   ]
  },
  {
   "cell_type": "code",
   "execution_count": 19,
   "id": "7aa89f83",
   "metadata": {},
   "outputs": [
    {
     "data": {
      "text/plain": [
       "((21202, 45), (21202,), (5301, 45), (5301,))"
      ]
     },
     "execution_count": 19,
     "metadata": {},
     "output_type": "execute_result"
    }
   ],
   "source": [
    "X_train.shape, y_train.shape, X_test.shape, y_test.shape"
   ]
  },
  {
   "cell_type": "markdown",
   "id": "9beae0cb",
   "metadata": {},
   "source": [
    "## [Create a baseline model](#TABLE-OF-CONTENTS)"
   ]
  },
  {
   "cell_type": "code",
   "execution_count": 20,
   "id": "c28d9164",
   "metadata": {},
   "outputs": [
    {
     "name": "stdout",
     "output_type": "stream",
     "text": [
      "The Baseline Mean Absolute Error Score For This Project Is 123.6279\n",
      "The Baseline r2 Score For This Project Is 0.0\n"
     ]
    }
   ],
   "source": [
    "y_mean= y_train.mean()\n",
    "y_pred_baseline= [y_mean]*len(y_train)\n",
    "ymae_baseline_score= mean_absolute_error(y_train, y_pred_baseline)\n",
    "yr2_baseline_score= r2_score(y_train, y_pred_baseline)\n",
    "\n",
    "print (f'The Baseline Mean Absolute Error Score For This Project Is {round(ymae_baseline_score, 4)}')\n",
    "print (f'The Baseline r2 Score For This Project Is {round(yr2_baseline_score, 4)}')"
   ]
  },
  {
   "cell_type": "markdown",
   "id": "07811d48",
   "metadata": {},
   "source": [
    "## [Machine Learning](#TABLE-OF-CONTENTS)"
   ]
  },
  {
   "cell_type": "code",
   "execution_count": 21,
   "id": "57d678c7",
   "metadata": {},
   "outputs": [],
   "source": [
    "# create model\n",
    "model= RandomForestRegressor(random_state=42)"
   ]
  },
  {
   "cell_type": "code",
   "execution_count": 22,
   "id": "18dc8f5b",
   "metadata": {},
   "outputs": [
    {
     "data": {
      "text/plain": [
       "RandomForestRegressor(random_state=42)"
      ]
     },
     "execution_count": 22,
     "metadata": {},
     "output_type": "execute_result"
    }
   ],
   "source": [
    "# Fit the model\n",
    "model.fit(X_train, y_train)"
   ]
  },
  {
   "cell_type": "code",
   "execution_count": 23,
   "id": "e6261d8e",
   "metadata": {},
   "outputs": [
    {
     "name": "stdout",
     "output_type": "stream",
     "text": [
      "mae score: 103.82134385707798\n",
      "R2 score: -2.2878771542188545\n"
     ]
    }
   ],
   "source": [
    "# predict and score training data\n",
    "y_pred = model.predict(X_test)\n",
    "mae_score = mean_absolute_error(y_true=y_test, y_pred=y_pred)\n",
    "r_sscore = r2_score(y_true=y_test, y_pred=y_pred)\n",
    "print(f'mae score: {mae_score}')\n",
    "print(f'R2 score: {r_sscore}')\n"
   ]
  },
  {
   "cell_type": "markdown",
   "id": "a682f58c",
   "metadata": {},
   "source": [
    "### Insights\n",
    "- **Model Performance**: The current model is underperforming with the given data.\n",
    "- **Upcoming Preprocessing Steps**:\n",
    "  - Focus on data from the year 2020 and onwards.\n",
    "  - Remove outliers from the dataset."
   ]
  },
  {
   "cell_type": "code",
   "execution_count": 24,
   "id": "cca54a7d",
   "metadata": {},
   "outputs": [],
   "source": [
    "# Drop all years that are earlier than 2020\n",
    "df = df[df['Year'] >= 2020]\n",
    "\n",
    "# Remove outliers from the Engagements column using the IQR rule\n",
    "Q1 = df['Engagements'].quantile(0.25)\n",
    "Q3 = df['Engagements'].quantile(0.75)\n",
    "IQR = Q3 - Q1\n",
    "lower_bound = Q1 - 1.5 * IQR\n",
    "upper_bound = Q3 + 1.5 * IQR\n",
    "\n",
    "df_no_outliers = df[(df['Engagements'] >= lower_bound) & (df['Engagements'] <= upper_bound)]"
   ]
  },
  {
   "cell_type": "code",
   "execution_count": 25,
   "id": "d4e6f084",
   "metadata": {},
   "outputs": [
    {
     "name": "stdout",
     "output_type": "stream",
     "text": [
      "<class 'pandas.core.frame.DataFrame'>\n",
      "Int64Index: 16577 entries, 1944 to 23952\n",
      "Data columns (total 46 columns):\n",
      " #   Column                        Non-Null Count  Dtype\n",
      "---  ------                        --------------  -----\n",
      " 0   is_weekend                    16577 non-null  int64\n",
      " 1   contains_question             16577 non-null  int64\n",
      " 2   num_hashtags                  16577 non-null  int64\n",
      " 3   Engagements                   16577 non-null  int64\n",
      " 4   Year                          16577 non-null  int64\n",
      " 5   no of tags                    16577 non-null  int64\n",
      " 6   Sent by_Anonymous             16577 non-null  uint8\n",
      " 7   Sent by_Aramide Salami        16577 non-null  uint8\n",
      " 8   Sent by_Blessing Ubah         16577 non-null  uint8\n",
      " 9   Sent by_Damilare Oyekanmi     16577 non-null  uint8\n",
      " 10  Sent by_Dunni Ogunsanya       16577 non-null  uint8\n",
      " 11  Sent by_Kemi Amoo             16577 non-null  uint8\n",
      " 12  Sent by_Sophia Amuka          16577 non-null  uint8\n",
      " 13  day_of_week_Friday            16577 non-null  uint8\n",
      " 14  day_of_week_Monday            16577 non-null  uint8\n",
      " 15  day_of_week_Saturday          16577 non-null  uint8\n",
      " 16  day_of_week_Sunday            16577 non-null  uint8\n",
      " 17  day_of_week_Thursday          16577 non-null  uint8\n",
      " 18  day_of_week_Tuesday           16577 non-null  uint8\n",
      " 19  day_of_week_Wednesday         16577 non-null  uint8\n",
      " 20  Month_Apr                     16577 non-null  uint8\n",
      " 21  Month_Aug                     16577 non-null  uint8\n",
      " 22  Month_Dec                     16577 non-null  uint8\n",
      " 23  Month_Feb                     16577 non-null  uint8\n",
      " 24  Month_Jan                     16577 non-null  uint8\n",
      " 25  Month_Jul                     16577 non-null  uint8\n",
      " 26  Month_Jun                     16577 non-null  uint8\n",
      " 27  Month_Mar                     16577 non-null  uint8\n",
      " 28  Month_May                     16577 non-null  uint8\n",
      " 29  Month_Nov                     16577 non-null  uint8\n",
      " 30  Month_Oct                     16577 non-null  uint8\n",
      " 31  Month_Sep                     16577 non-null  uint8\n",
      " 32  Content Type_Carousel         16577 non-null  uint8\n",
      " 33  Content Type_Document         16577 non-null  uint8\n",
      " 34  Content Type_Link             16577 non-null  uint8\n",
      " 35  Content Type_Photo            16577 non-null  uint8\n",
      " 36  Content Type_Text             16577 non-null  uint8\n",
      " 37  Content Type_Video            16577 non-null  uint8\n",
      " 38  part_of_day_posted_afternoon  16577 non-null  uint8\n",
      " 39  part_of_day_posted_evening    16577 non-null  uint8\n",
      " 40  part_of_day_posted_morning    16577 non-null  uint8\n",
      " 41  part_of_day_posted_night      16577 non-null  uint8\n",
      " 42  Network_Facebook              16577 non-null  uint8\n",
      " 43  Network_Instagram             16577 non-null  uint8\n",
      " 44  Network_LinkedIn              16577 non-null  uint8\n",
      " 45  Network_Twitter               16577 non-null  uint8\n",
      "dtypes: int64(6), uint8(40)\n",
      "memory usage: 1.5 MB\n"
     ]
    }
   ],
   "source": [
    "df_no_outliers.info()"
   ]
  },
  {
   "cell_type": "code",
   "execution_count": 26,
   "id": "0d37785b",
   "metadata": {},
   "outputs": [
    {
     "data": {
      "text/plain": [
       "<AxesSubplot:>"
      ]
     },
     "execution_count": 26,
     "metadata": {},
     "output_type": "execute_result"
    },
    {
     "data": {
      "image/png": "[encoded data removed]",
      "text/plain": [
       "<Figure size 432x288 with 1 Axes>"
      ]
     },
     "metadata": {
      "needs_background": "light"
     },
     "output_type": "display_data"
    }
   ],
   "source": [
    "df['Engagements'].plot()"
   ]
  },
  {
   "cell_type": "markdown",
   "id": "25dc23e0",
   "metadata": {},
   "source": [
    "## [Splitting Data](#TABLE-OF-CONTENTS)"
   ]
  },
  {
   "cell_type": "code",
   "execution_count": 27,
   "id": "1acd9b46",
   "metadata": {},
   "outputs": [],
   "source": [
    "# Split the data into feature and target variables\n",
    "X= df.drop(columns= ['Engagements','Year'])\n",
    "y= np.log1p(df['Engagements'])\n",
    "\n",
    "# split the data into training and test sets\n",
    "new_X_train,new_X_test, new_y_train, new_y_test= train_test_split(X,y,test_size=0.2, shuffle= True, random_state=42)"
   ]
  },
  {
   "cell_type": "code",
   "execution_count": 28,
   "id": "7fee407e",
   "metadata": {},
   "outputs": [
    {
     "data": {
      "text/plain": [
       "((14780, 44), (14780,), (3696, 44), (3696,))"
      ]
     },
     "execution_count": 28,
     "metadata": {},
     "output_type": "execute_result"
    }
   ],
   "source": [
    "new_X_train.shape, new_y_train.shape, new_X_test.shape, new_y_test.shape"
   ]
  },
  {
   "cell_type": "markdown",
   "id": "a042cfa0",
   "metadata": {},
   "source": [
    "## [Training and Fitting of Models](#TABLE-OF-CONTENTS)"
   ]
  },
  {
   "cell_type": "code",
   "execution_count": 29,
   "id": "33739857",
   "metadata": {},
   "outputs": [
    {
     "name": "stdout",
     "output_type": "stream",
     "text": [
      "mae score: 0.3542917148256402\n",
      "R2 score: 0.7994066716821773\n"
     ]
    }
   ],
   "source": [
    "model.fit(new_X_train, new_y_train)\n",
    "\n",
    "# predict and score new training data\n",
    "y_pred= (model.predict(new_X_train))\n",
    "mae_score= mean_absolute_error(y_true= new_y_train,y_pred= y_pred)\n",
    "r_score = r2_score(y_true= new_y_train,y_pred= y_pred)\n",
    "print(f'mae score: {mae_score}')\n",
    "print(f'R2 score: {r_score}')"
   ]
  },
  {
   "cell_type": "code",
   "execution_count": 30,
   "id": "49d723eb",
   "metadata": {},
   "outputs": [
    {
     "data": {
      "text/plain": [
       "0.2921063476170984"
      ]
     },
     "execution_count": 30,
     "metadata": {},
     "output_type": "execute_result"
    }
   ],
   "source": [
    "model.score(new_X_test, new_y_test)"
   ]
  },
  {
   "cell_type": "markdown",
   "id": "b3968cb2",
   "metadata": {},
   "source": [
    "## Insights\n",
    "---\n",
    "- **Model Performance Observation:**\n",
    "  - The model exhibits strong performance on the training dataset but its effectiveness diminishes on the test dataset.\n",
    "  \n",
    "- **Diagnosis:**\n",
    "  - Such behavior suggests the model is underfitting.\n",
    "  \n",
    "- **Next Steps:**\n",
    "  - To address this, we'll explore more complex and powerful models.\n"
   ]
  },
  {
   "cell_type": "code",
   "execution_count": 31,
   "id": "f89d64d3",
   "metadata": {},
   "outputs": [],
   "source": [
    "from sklearn.linear_model import LinearRegression, Ridge, Lasso, ElasticNet\n",
    "from sklearn.tree import DecisionTreeRegressor\n",
    "from sklearn.ensemble import RandomForestRegressor, GradientBoostingRegressor\n",
    "from sklearn.neighbors import KNeighborsRegressor\n",
    "from sklearn.svm import SVR\n",
    "\n",
    "models = {\n",
    "        'Linear Regression': LinearRegression(),\n",
    "        'Ridge Regression': Ridge(),\n",
    "        'Random Forest': RandomForestRegressor(),\n",
    "        'Gradient Boosting': GradientBoostingRegressor(),\n",
    "        'KNN': KNeighborsRegressor(),\n",
    "        'Support Vector Regressor': SVR()\n",
    "}\n"
   ]
  },
  {
   "cell_type": "code",
   "execution_count": 32,
   "id": "b35d8386",
   "metadata": {},
   "outputs": [],
   "source": [
    "# define a function to train the model on train data and score it on validation data\n",
    "def model_select(X_train, y_train, X_test, y_test):\n",
    "    model_score = {}\n",
    "    for title, model in models.items():\n",
    "        model.fit(X_train, y_train)\n",
    "        model_score[title]= model.score(X_test, y_test)\n",
    "    return model_score"
   ]
  },
  {
   "cell_type": "code",
   "execution_count": 33,
   "id": "596c991a",
   "metadata": {},
   "outputs": [
    {
     "data": {
      "text/plain": [
       "{'Linear Regression': 0.3684086567887783,\n",
       " 'Ridge Regression': 0.36824512528329967,\n",
       " 'Random Forest': 0.2942480608310035,\n",
       " 'Gradient Boosting': 0.39056243753107234,\n",
       " 'KNN': 0.30116965762239023,\n",
       " 'Support Vector Regressor': 0.3889709848425974}"
      ]
     },
     "execution_count": 33,
     "metadata": {},
     "output_type": "execute_result"
    }
   ],
   "source": [
    "model_select(new_X_train, new_y_train, new_X_test, new_y_test)"
   ]
  },
  {
   "cell_type": "markdown",
   "id": "c9e5c92d",
   "metadata": {},
   "source": [
    "## [Tuning Model](#TABLE-OF-CONTENTS)"
   ]
  },
  {
   "cell_type": "markdown",
   "id": "2de56fde",
   "metadata": {},
   "source": [
    "### The model is improving but it can be better, so lets perform randomized searchcv on the top performing models"
   ]
  },
  {
   "cell_type": "code",
   "execution_count": null,
   "id": "6ad1e22b",
   "metadata": {},
   "outputs": [],
   "source": [
    "import sklearn"
   ]
  },
  {
   "cell_type": "code",
   "execution_count": null,
   "id": "70bff7f9",
   "metadata": {},
   "outputs": [],
   "source": [
    "from sklearn.model_selection import RandomizedSearchCV\n",
    "from sklearn.ensemble import GradientBoostingRegressor\n",
    "import numpy as np\n",
    "\n",
    "# Define hyperparameter distributions for Gradient Boosting Regressor\n",
    "param_dist_gb = {\n",
    "    'n_estimators': [50, 100, 150, 200, 250],\n",
    "    'learning_rate': [0.1,0.2,0.3, 0.5],\n",
    "    'max_depth': [3, 4, 5, 6, 7],\n",
    "    'min_samples_split': [2, 4, 6],\n",
    "    'min_samples_leaf': [1, 2, 3],\n",
    "    'max_features': ['auto', 'sqrt', 'log2', None]\n",
    "}\n",
    "\n",
    "# Initialize RandomizedSearchCV with Gradient Boosting Regressor and hyperparameter distributions\n",
    "random_search_gb = RandomizedSearchCV(GradientBoostingRegressor(random_state=42), param_distributions=param_dist_gb, \n",
    "                                      n_iter=100, cv=3, n_jobs=-1, scoring='neg_mean_squared_error', random_state=42, verbose=1)\n",
    "\n",
    "# Fit RandomizedSearchCV to the data (with no outliers and transformed target)\n",
    "random_search_gb.fit(new_X_train, new_y_train)\n",
    "\n",
    "# Get the best hyperparameters from the random search\n",
    "best_params_gb = random_search_gb.best_params_\n",
    "\n",
    "best_params_gb\n"
   ]
  },
  {
   "cell_type": "markdown",
   "id": "142e10a6",
   "metadata": {},
   "source": [
    "## [Predicting Target Vector Using Feature Variables](#TABLE-OF-CONTENTS)"
   ]
  },
  {
   "cell_type": "code",
   "execution_count": null,
   "id": "f3d0a5c3",
   "metadata": {},
   "outputs": [],
   "source": [
    "from sklearn.metrics import mean_absolute_error, r2_score\n",
    "\n",
    "# Predict using the best model from random search\n",
    "y_pred = random_search_gb.best_estimator_.predict(new_X_test)\n",
    "\n",
    "# Calculate MAE and R2score\n",
    "mae = mean_absolute_error(new_y_test, y_pred)\n",
    "r2 = r2_score(new_y_test, y_pred)\n",
    "\n",
    "print(f\"Mean Absolute Error (MAE): {mae}\")\n",
    "print(f\"R^2 Score: {r2}\")\n"
   ]
  },
  {
   "cell_type": "markdown",
   "id": "db1caed1",
   "metadata": {},
   "source": [
    "\n",
    "## [Conclusion & Insights](#TABLE-OF-CONTENTS)\n",
    "---\n",
    "### Metrics Defined:\n",
    "- **Mean Absolute Error (MAE):**\n",
    "  - Represents the average of the absolute differences between predicted and actual values. A lower MAE suggests a better-fitting model.\n",
    "\n",
    "- **R² Score (Coefficient of Determination):**\n",
    "  - Indicates the proportion of the variance in the dependent variable that is predictable from the independent variables. It ranges from 0 to 1, with 1 indicating perfect predictions and 0 meaning the model does no better than simply predicting the mean of the target variable.\n",
    "\n",
    "### Model Performance:\n",
    "- **Baseline Model:**\n",
    "  - MAE: 103\n",
    "  - R² Score: 0.0\n",
    "  \n",
    "- **Random Forest Classifier:**\n",
    "   - The model exhibits strong performance on the training dataset:\n",
    "       - MAE: 0.35\n",
    "       - R² Score: 0.799\n",
    "   - But its effectiveness diminishes on the test dataset\n",
    "       - R² Score: 0.292\n",
    "- **To address the model underfitting, I explored more complex and powerful models and got the following R² Score** \n",
    "    - Linear Regression: 0.368\n",
    "    - Ridge Regression: 0.368\n",
    "    - Random Forest: 0.294\n",
    "    - Gradient Boosting: 0.391\n",
    "    - KNN: 0.301\n",
    "    - Support Vector Regressor: 0.389\n",
    "\n",
    "       \n",
    "\n",
    "- **Tuned the Model (using the highest performing model Gradient Boosting Regressor):**\n",
    "  - MAE: 0.65 \n",
    "  - R² Score: 0.408\n",
    "  - Note: The Gradient Boosting Regressor achieved the optimal result among the models tested.\n",
    "\n",
    "### Reflection:\n",
    "While our Gradient Boosting Regressor model shows a marked improvement from the baseline, its performance still falls short of expectations. Future steps will involve gathering more data to further refine and optimize our model.\n"
   ]
  },
  {
   "cell_type": "code",
   "execution_count": null,
   "id": "95b93c48",
   "metadata": {},
   "outputs": [],
   "source": []
  }
 ],
 "metadata": {
  "kernelspec": {
   "display_name": "Python 3 (ipykernel)",
   "language": "python",
   "name": "python3"
  },
  "language_info": {
   "codemirror_mode": {
    "name": "ipython",
    "version": 3
   },
   "file_extension": ".py",
   "mimetype": "text/x-python",
   "name": "python",
   "nbconvert_exporter": "python",
   "pygments_lexer": "ipython3",
   "version": "3.9.12"
  }
 },
 "nbformat": 4,
 "nbformat_minor": 5
}
